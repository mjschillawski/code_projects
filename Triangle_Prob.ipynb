{
 "cells": [
  {
   "cell_type": "code",
   "execution_count": 27,
   "metadata": {
    "ExecuteTime": {
     "end_time": "2018-03-23T20:42:28.628180Z",
     "start_time": "2018-03-23T20:42:28.564987Z"
    }
   },
   "outputs": [],
   "source": [
    "import numpy as np\n",
    "def triangle_prob(n):\n",
    "    outcomes = []\n",
    "    a_list = []\n",
    "    b_list = []\n",
    "    c_list = []\n",
    "    i = 0\n",
    "    while i < n :\n",
    "        a = np.random.uniform(0,1)\n",
    "        b = np.random.uniform(0,1)\n",
    "        c = 1 - (a + b)\n",
    "        if c > 0:\n",
    "            if  a < b + c:\n",
    "                if b < a + c:\n",
    "                    if c < a + b:\n",
    "                        outcomes.append(1)\n",
    "                        i += 1\n",
    "                    else:\n",
    "                        outcomes.append(0)\n",
    "                        i += 1\n",
    "                    a_list.append(a)\n",
    "                    b_list.append(b)\n",
    "                    c_list.append(c)\n",
    "                else: \n",
    "                    outcomes.append(0)\n",
    "                    i += 1\n",
    "            else:\n",
    "                outcomes.append(0)\n",
    "                i += 1\n",
    "        else:\n",
    "              pass\n",
    "    \n",
    "    frequency = np.sum(outcomes) / len(outcomes)\n",
    "    return frequency, a_list, b_list, c_list      "
   ]
  },
  {
   "cell_type": "code",
   "execution_count": 15,
   "metadata": {
    "ExecuteTime": {
     "end_time": "2018-03-23T16:48:10.319719Z",
     "start_time": "2018-03-23T16:48:10.313689Z"
    }
   },
   "outputs": [
    {
     "data": {
      "text/plain": [
       "0.3"
      ]
     },
     "execution_count": 15,
     "metadata": {},
     "output_type": "execute_result"
    }
   ],
   "source": [
    "triangle_prob(10)"
   ]
  },
  {
   "cell_type": "code",
   "execution_count": 14,
   "metadata": {
    "ExecuteTime": {
     "end_time": "2018-03-23T16:48:04.666793Z",
     "start_time": "2018-03-23T16:48:04.658435Z"
    }
   },
   "outputs": [
    {
     "data": {
      "text/plain": [
       "0.29"
      ]
     },
     "execution_count": 14,
     "metadata": {},
     "output_type": "execute_result"
    }
   ],
   "source": [
    "triangle_prob(100)"
   ]
  },
  {
   "cell_type": "code",
   "execution_count": 13,
   "metadata": {
    "ExecuteTime": {
     "end_time": "2018-03-23T16:47:54.605736Z",
     "start_time": "2018-03-23T16:47:54.588323Z"
    }
   },
   "outputs": [
    {
     "data": {
      "text/plain": [
       "0.262"
      ]
     },
     "execution_count": 13,
     "metadata": {},
     "output_type": "execute_result"
    }
   ],
   "source": [
    "triangle_prob(1000)"
   ]
  },
  {
   "cell_type": "code",
   "execution_count": 11,
   "metadata": {
    "ExecuteTime": {
     "end_time": "2018-03-23T16:47:41.394409Z",
     "start_time": "2018-03-23T16:47:41.323546Z"
    }
   },
   "outputs": [
    {
     "data": {
      "text/plain": [
       "0.2471"
      ]
     },
     "execution_count": 11,
     "metadata": {},
     "output_type": "execute_result"
    }
   ],
   "source": [
    "triangle_prob(10000)"
   ]
  },
  {
   "cell_type": "code",
   "execution_count": 3,
   "metadata": {
    "ExecuteTime": {
     "end_time": "2018-03-23T20:37:57.891616Z",
     "start_time": "2018-03-23T20:37:57.171900Z"
    }
   },
   "outputs": [
    {
     "data": {
      "text/plain": [
       "0.24806"
      ]
     },
     "execution_count": 3,
     "metadata": {},
     "output_type": "execute_result"
    }
   ],
   "source": [
    "triangle_prob(100000)"
   ]
  },
  {
   "cell_type": "code",
   "execution_count": 16,
   "metadata": {
    "ExecuteTime": {
     "end_time": "2018-03-23T16:49:19.654059Z",
     "start_time": "2018-03-23T16:48:22.763947Z"
    }
   },
   "outputs": [
    {
     "data": {
      "text/plain": [
       "0.2500687"
      ]
     },
     "execution_count": 16,
     "metadata": {},
     "output_type": "execute_result"
    }
   ],
   "source": [
    "triangle_prob(10000000)"
   ]
  },
  {
   "cell_type": "code",
   "execution_count": 28,
   "metadata": {
    "ExecuteTime": {
     "end_time": "2018-03-23T20:42:39.443377Z",
     "start_time": "2018-03-23T20:42:31.737493Z"
    }
   },
   "outputs": [],
   "source": [
    "frequency, a_list, b_list, c_list = triangle_prob(1000000)"
   ]
  },
  {
   "cell_type": "code",
   "execution_count": 29,
   "metadata": {
    "ExecuteTime": {
     "end_time": "2018-03-23T20:42:43.286213Z",
     "start_time": "2018-03-23T20:42:43.254496Z"
    }
   },
   "outputs": [],
   "source": [
    "import numpy as np\n",
    "import pandas as pd\n",
    "import matplotlib.pyplot as plt\n",
    "%matplotlib inline"
   ]
  },
  {
   "cell_type": "code",
   "execution_count": 31,
   "metadata": {
    "ExecuteTime": {
     "end_time": "2018-03-23T20:42:55.748349Z",
     "start_time": "2018-03-23T20:42:53.279154Z"
    }
   },
   "outputs": [
    {
     "data": {
      "image/png": "[encoded data removed]",
      "text/plain": [
       "<matplotlib.figure.Figure at 0x10a2d8a90>"
      ]
     },
     "metadata": {},
     "output_type": "display_data"
    }
   ],
   "source": [
    "plt.hist(np.array(a_list),bins=1000);"
   ]
  },
  {
   "cell_type": "code",
   "execution_count": 32,
   "metadata": {
    "ExecuteTime": {
     "end_time": "2018-03-23T20:43:02.307101Z",
     "start_time": "2018-03-23T20:42:59.789602Z"
    }
   },
   "outputs": [
    {
     "data": {
      "image/png": "[encoded data removed]",
      "text/plain": [
       "<matplotlib.figure.Figure at 0x10a9996a0>"
      ]
     },
     "metadata": {},
     "output_type": "display_data"
    }
   ],
   "source": [
    "plt.hist(np.array(b_list),bins=1000);"
   ]
  },
  {
   "cell_type": "code",
   "execution_count": 33,
   "metadata": {
    "ExecuteTime": {
     "end_time": "2018-03-23T20:43:08.938219Z",
     "start_time": "2018-03-23T20:43:06.322819Z"
    }
   },
   "outputs": [
    {
     "data": {
      "image/png": "[encoded data removed]",
      "text/plain": [
       "<matplotlib.figure.Figure at 0x10d2404a8>"
      ]
     },
     "metadata": {},
     "output_type": "display_data"
    }
   ],
   "source": [
    "plt.hist(np.array(c_list),bins=1000);"
   ]
  },
  {
   "cell_type": "code",
   "execution_count": null,
   "metadata": {
    "collapsed": true
   },
   "outputs": [],
   "source": []
  }
 ],
 "metadata": {
  "kernelspec": {
   "display_name": "Python [default]",
   "language": "python",
   "name": "python3"
  },
  "language_info": {
   "codemirror_mode": {
    "name": "ipython",
    "version": 3
   },
   "file_extension": ".py",
   "mimetype": "text/x-python",
   "name": "python",
   "nbconvert_exporter": "python",
   "pygments_lexer": "ipython3",
   "version": "3.6.4"
  },
  "varInspector": {
   "cols": {
    "lenName": 16,
    "lenType": 16,
    "lenVar": 40
   },
   "kernels_config": {
    "python": {
     "delete_cmd_postfix": "",
     "delete_cmd_prefix": "del ",
     "library": "var_list.py",
     "varRefreshCmd": "print(var_dic_list())"
    },
    "r": {
     "delete_cmd_postfix": ") ",
     "delete_cmd_prefix": "rm(",
     "library": "var_list.r",
     "varRefreshCmd": "cat(var_dic_list()) "
    }
   },
   "types_to_exclude": [
    "module",
    "function",
    "builtin_function_or_method",
    "instance",
    "_Feature"
   ],
   "window_display": false
  }
 },
 "nbformat": 4,
 "nbformat_minor": 2
}

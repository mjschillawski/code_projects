{
 "cells": [
  {
   "cell_type": "code",
   "execution_count": 1,
   "metadata": {
    "ExecuteTime": {
     "end_time": "2018-03-29T18:57:55.843737Z",
     "start_time": "2018-03-29T18:57:55.838668Z"
    },
    "collapsed": true
   },
   "outputs": [],
   "source": [
    "def range_(start, end, increment=1):\n",
    "    while start < end:\n",
    "        yield start\n",
    "        start += increment"
   ]
  },
  {
   "cell_type": "code",
   "execution_count": 2,
   "metadata": {
    "ExecuteTime": {
     "end_time": "2018-03-29T18:58:11.794931Z",
     "start_time": "2018-03-29T18:58:11.789821Z"
    },
    "collapsed": true
   },
   "outputs": [],
   "source": [
    "one_to_one_hundred = range_(1,100)"
   ]
  },
  {
   "cell_type": "code",
   "execution_count": 3,
   "metadata": {
    "ExecuteTime": {
     "end_time": "2018-03-29T18:58:27.758511Z",
     "start_time": "2018-03-29T18:58:27.744422Z"
    }
   },
   "outputs": [
    {
     "data": {
      "text/plain": [
       "<generator object range_ at 0x104631c50>"
      ]
     },
     "execution_count": 3,
     "metadata": {},
     "output_type": "execute_result"
    }
   ],
   "source": [
    "one_to_one_hundred"
   ]
  },
  {
   "cell_type": "code",
   "execution_count": 9,
   "metadata": {
    "ExecuteTime": {
     "end_time": "2018-03-29T18:59:04.760546Z",
     "start_time": "2018-03-29T18:59:04.754733Z"
    }
   },
   "outputs": [
    {
     "data": {
      "text/plain": [
       "6"
      ]
     },
     "execution_count": 9,
     "metadata": {},
     "output_type": "execute_result"
    }
   ],
   "source": [
    "next(one_to_one_hundred)"
   ]
  },
  {
   "cell_type": "code",
   "execution_count": 24,
   "metadata": {
    "ExecuteTime": {
     "end_time": "2018-03-29T19:07:51.118679Z",
     "start_time": "2018-03-29T19:07:51.111916Z"
    }
   },
   "outputs": [
    {
     "data": {
      "text/plain": [
       "233168"
      ]
     },
     "execution_count": 24,
     "metadata": {},
     "output_type": "execute_result"
    }
   ],
   "source": [
    "import numpy as np\n",
    "np.sum([number for number in range_(1,1000) if (number % 5 == 0) or (number % 3 == 0)])"
   ]
  },
  {
   "cell_type": "code",
   "execution_count": 177,
   "metadata": {
    "ExecuteTime": {
     "end_time": "2018-03-29T20:18:07.574660Z",
     "start_time": "2018-03-29T20:18:07.567405Z"
    },
    "collapsed": true
   },
   "outputs": [],
   "source": [
    "def fibonacci_(start,end):\n",
    "    increment = 1\n",
    "    while start < end:\n",
    "        yield start\n",
    "        increment_next = start\n",
    "        start += increment\n",
    "        increment = increment_next"
   ]
  },
  {
   "cell_type": "code",
   "execution_count": 180,
   "metadata": {
    "ExecuteTime": {
     "end_time": "2018-03-29T20:18:59.165908Z",
     "start_time": "2018-03-29T20:18:59.160147Z"
    }
   },
   "outputs": [
    {
     "data": {
      "text/plain": [
       "4613732"
      ]
     },
     "execution_count": 180,
     "metadata": {},
     "output_type": "execute_result"
    }
   ],
   "source": [
    "np.sum([number for number in fibonacci_(1,4000000) if number % 2 == 0])"
   ]
  },
  {
   "cell_type": "code",
   "execution_count": 184,
   "metadata": {
    "ExecuteTime": {
     "end_time": "2018-03-29T20:23:03.358372Z",
     "start_time": "2018-03-29T20:23:03.351642Z"
    }
   },
   "outputs": [
    {
     "data": {
      "text/plain": [
       "25164150"
      ]
     },
     "execution_count": 184,
     "metadata": {},
     "output_type": "execute_result"
    }
   ],
   "source": [
    "np.sum([number for number in range_(1,101)]) ** 2 - np.sum([number**2 for number in range_(1,101)]) "
   ]
  }
 ],
 "metadata": {
  "kernelspec": {
   "display_name": "Python [default]",
   "language": "python",
   "name": "python3"
  },
  "language_info": {
   "codemirror_mode": {
    "name": "ipython",
    "version": 3
   },
   "file_extension": ".py",
   "mimetype": "text/x-python",
   "name": "python",
   "nbconvert_exporter": "python",
   "pygments_lexer": "ipython3",
   "version": "3.6.4"
  },
  "varInspector": {
   "cols": {
    "lenName": 16,
    "lenType": 16,
    "lenVar": 40
   },
   "kernels_config": {
    "python": {
     "delete_cmd_postfix": "",
     "delete_cmd_prefix": "del ",
     "library": "var_list.py",
     "varRefreshCmd": "print(var_dic_list())"
    },
    "r": {
     "delete_cmd_postfix": ") ",
     "delete_cmd_prefix": "rm(",
     "library": "var_list.r",
     "varRefreshCmd": "cat(var_dic_list()) "
    }
   },
   "types_to_exclude": [
    "module",
    "function",
    "builtin_function_or_method",
    "instance",
    "_Feature"
   ],
   "window_display": false
  }
 },
 "nbformat": 4,
 "nbformat_minor": 2
}
